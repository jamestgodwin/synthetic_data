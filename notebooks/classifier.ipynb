{
 "cells": [
  {
   "cell_type": "markdown",
   "metadata": {},
   "source": [
    "# Classification model"
   ]
  },
  {
   "cell_type": "code",
   "execution_count": 7,
   "metadata": {},
   "outputs": [
    {
     "name": "stdout",
     "output_type": "stream",
     "text": [
      "seaborn==0.10.1\n",
      "scikit-learn==0.24.1\n",
      "pandas==1.1.4\n",
      "numpy==1.20.1\n",
      "matplotlib==3.2.2\n"
     ]
    }
   ],
   "source": [
    "import pandas as pd\n",
    "import matplotlib.pyplot as plt\n",
    "import seaborn as sns\n",
    "import numpy as np\n",
    "\n",
    "from sklearn import metrics\n",
    "from sklearn.model_selection import train_test_split\n",
    "\n",
    "from sklearn.linear_model import LogisticRegression\n",
    "from sklearn.ensemble import RandomForestClassifier\n",
    "from sklearn.neural_network import MLPClassifier\n",
    "\n",
    "import pkg_resources\n",
    "root_packages = ['pandas', 'matplotlib', 'seaborn', 'numpy', 'scikit-learn']\n",
    "\n",
    "for m in pkg_resources.working_set:\n",
    "    if m.project_name.lower() in root_packages:\n",
    "        print(f\"{m.project_name}=={m.version}\")"
   ]
  },
  {
   "cell_type": "code",
   "execution_count": 2,
   "metadata": {},
   "outputs": [],
   "source": [
    "SEED = 1"
   ]
  },
  {
   "cell_type": "markdown",
   "metadata": {},
   "source": [
    "## Data Preparation"
   ]
  },
  {
   "cell_type": "code",
   "execution_count": 52,
   "metadata": {},
   "outputs": [],
   "source": [
    "url = \"https://raw.githubusercontent.com/jamestgodwin/synthetic_data/main/data/back_pain.csv\"\n",
    "df = pd.read_csv(url) # download heart dataset\n",
    "attr = df[df.columns[1:13]]\n",
    "target = df[df.columns[13]]\n",
    "\n",
    "#X_train, X_test, y_train, y_test = train_test_split(attr, \n",
    "                                                    #target, \n",
    "                                                   # test_size=0.33, \n",
    "                                                  #  random_state=SEED)\n",
    "col_list = list(df.iloc[:, -1].dropna().unique())\n",
    "col_list = [c.split('=')[-1] for c in col_list]\n",
    "del col_list[0]\n",
    "\n",
    "df = df.iloc[:, :-1]\n",
    "df.columns = col_list\n",
    "\n",
    "df.loc[df['Attribute class {Abnormal, Normal} '] == 'Abnormal',\\\n",
    "              'Attribute class {Abnormal, Normal} '] = 0\n",
    "df.loc[df['Attribute class {Abnormal, Normal} '] != 0,\\\n",
    "              'Attribute class {Abnormal, Normal} '] = 1\n",
    "\n",
    "raw_X = df[df.columns[0:12]]\n",
    "raw_y = df[df.columns[12]]"
   ]
  },
  {
   "cell_type": "markdown",
   "metadata": {},
   "source": [
    "## Helper functions"
   ]
  },
  {
   "cell_type": "code",
   "execution_count": 33,
   "metadata": {},
   "outputs": [],
   "source": [
    "def get_preds(model, X_test):\n",
    "    return model.predict(X_test)\n",
    "\n",
    "def get_metric_scores(y_test, preds):\n",
    "    acc = metrics.accuracy_score(y_test, preds)\n",
    "    prec = metrics.precision_score(y_test, preds) \n",
    "    rec = metrics.recall_score(y_test, preds)\n",
    "    return [acc, prec, rec]\n",
    "\n",
    "def get_roc(y_test, preds, label):\n",
    "    fpr, tpr, thresh = metrics.roc_curve(y_test, preds)\n",
    "    auc = metrics.roc_auc_score(y_test, preds)\n",
    "    plt.plot(fpr,tpr,label= str(label) + \" AUC = \" + str(auc))\n",
    "    plt.legend(loc=0)"
   ]
  },
  {
   "cell_type": "code",
   "execution_count": 10,
   "metadata": {},
   "outputs": [],
   "source": [
    "def get_models(X_train, y_train, random_state=SEED):\n",
    "    lrm = LogisticRegression(random_state=SEED).fit(X_train, y_train)\n",
    "    rfm = RandomForestClassifier(random_state=SEED).fit(X_train, y_train)\n",
    "    nnm = MLPClassifier(random_state=SEED).fit(X_train, y_train)\n",
    "    return lrm, rfm, nnm\n",
    "\n",
    "def get_comparison_grid(models, X_test, y_test, _type):\n",
    "    preds = []\n",
    "    scores = []\n",
    "\n",
    "    for i in models:\n",
    "        preds.append(get_preds(i, X_test))\n",
    "\n",
    "    for i in preds:\n",
    "        scores.append(get_metric_scores(y_test, i))\n",
    "        \n",
    "    scores = pd.DataFrame(scores)\n",
    "    scores.columns =['Accuracy', 'Precision', 'Recall']\n",
    "    scores.index = [_type+' Logistic Regression', _type+' Random Forest', _type+' Neural Network']\n",
    "    return scores\n",
    "\n",
    "def create_matrix(y_test, preds, model):\n",
    "    cm = metrics.confusion_matrix(y_test, preds)\n",
    "    cm = pd.DataFrame(cm, index=['Diseased', 'Not-diseased'], columns=['Diseased', 'Not-diseased'])\n",
    "    sns.heatmap(cm, annot=True, annot_kws={\"size\": 16})\n",
    "    plt.title(f'Confusion Matrix: {model}');"
   ]
  },
  {
   "cell_type": "markdown",
   "metadata": {},
   "source": [
    "## ML Evaluation - synthetic data generation via PCA "
   ]
  },
  {
   "cell_type": "markdown",
   "metadata": {},
   "source": [
    "### Data generation"
   ]
  },
  {
   "cell_type": "code",
   "execution_count": 53,
   "metadata": {},
   "outputs": [],
   "source": [
    "syn_X = 1 # synthetic attributes \n",
    "syn_y = 1 # synthetic targets\n",
    "\n",
    "## initalise for synthetic datasets"
   ]
  },
  {
   "cell_type": "markdown",
   "metadata": {},
   "source": [
    "### Training and evaluation"
   ]
  },
  {
   "cell_type": "code",
   "execution_count": 11,
   "metadata": {},
   "outputs": [
    {
     "name": "stderr",
     "output_type": "stream",
     "text": [
      "/home/ubuntu/anaconda3/lib/python3.8/site-packages/sklearn/linear_model/_logistic.py:763: ConvergenceWarning: lbfgs failed to converge (status=1):\n",
      "STOP: TOTAL NO. of ITERATIONS REACHED LIMIT.\n",
      "\n",
      "Increase the number of iterations (max_iter) or scale the data as shown in:\n",
      "    https://scikit-learn.org/stable/modules/preprocessing.html\n",
      "Please also refer to the documentation for alternative solver options:\n",
      "    https://scikit-learn.org/stable/modules/linear_model.html#logistic-regression\n",
      "  n_iter_i = _check_optimize_result(\n"
     ]
    },
    {
     "data": {
      "text/html": [
       "<div>\n",
       "<style scoped>\n",
       "    .dataframe tbody tr th:only-of-type {\n",
       "        vertical-align: middle;\n",
       "    }\n",
       "\n",
       "    .dataframe tbody tr th {\n",
       "        vertical-align: top;\n",
       "    }\n",
       "\n",
       "    .dataframe thead th {\n",
       "        text-align: right;\n",
       "    }\n",
       "</style>\n",
       "<table border=\"1\" class=\"dataframe\">\n",
       "  <thead>\n",
       "    <tr style=\"text-align: right;\">\n",
       "      <th></th>\n",
       "      <th>Accuracy</th>\n",
       "      <th>Precision</th>\n",
       "      <th>Recall</th>\n",
       "    </tr>\n",
       "  </thead>\n",
       "  <tbody>\n",
       "    <tr>\n",
       "      <th>Test -  Logistic Regression</th>\n",
       "      <td>0.790000</td>\n",
       "      <td>0.779661</td>\n",
       "      <td>0.851852</td>\n",
       "    </tr>\n",
       "    <tr>\n",
       "      <th>Test -  Random Forest</th>\n",
       "      <td>0.760000</td>\n",
       "      <td>0.777778</td>\n",
       "      <td>0.777778</td>\n",
       "    </tr>\n",
       "    <tr>\n",
       "      <th>Test -  Neural Network</th>\n",
       "      <td>0.570000</td>\n",
       "      <td>0.677419</td>\n",
       "      <td>0.388889</td>\n",
       "    </tr>\n",
       "    <tr>\n",
       "      <th>Train -  Logistic Regression</th>\n",
       "      <td>0.881773</td>\n",
       "      <td>0.865546</td>\n",
       "      <td>0.927928</td>\n",
       "    </tr>\n",
       "    <tr>\n",
       "      <th>Train -  Random Forest</th>\n",
       "      <td>1.000000</td>\n",
       "      <td>1.000000</td>\n",
       "      <td>1.000000</td>\n",
       "    </tr>\n",
       "    <tr>\n",
       "      <th>Train -  Neural Network</th>\n",
       "      <td>0.679803</td>\n",
       "      <td>0.773810</td>\n",
       "      <td>0.585586</td>\n",
       "    </tr>\n",
       "  </tbody>\n",
       "</table>\n",
       "</div>"
      ],
      "text/plain": [
       "                              Accuracy  Precision    Recall\n",
       "Test -  Logistic Regression   0.790000   0.779661  0.851852\n",
       "Test -  Random Forest         0.760000   0.777778  0.777778\n",
       "Test -  Neural Network        0.570000   0.677419  0.388889\n",
       "Train -  Logistic Regression  0.881773   0.865546  0.927928\n",
       "Train -  Random Forest        1.000000   1.000000  1.000000\n",
       "Train -  Neural Network       0.679803   0.773810  0.585586"
      ]
     },
     "execution_count": 11,
     "metadata": {},
     "output_type": "execute_result"
    }
   ],
   "source": [
    "models = get_models(X_syn, y_syn, random_state=SEED) # train models\n",
    "\n",
    "preds_raw = [] # test data, ie the raw data\n",
    "preds_syn = [] # train data, ie the synthetic data\n",
    "for i in models:\n",
    "    preds_raw.append(get_preds(i, X_raw))\n",
    "    preds_syn.append(get_preds(i, X_syn))\n",
    "    \n",
    "a = get_comparison_grid(models, X_raw, y_raw, 'Raw - ')\n",
    "b = get_comparison_grid(models, X_syn, y_syn, 'Syn. - ')\n",
    "pd.concat([a,b])"
   ]
  },
  {
   "cell_type": "code",
   "execution_count": 35,
   "metadata": {},
   "outputs": [
    {
     "data": {
      "image/png": "[encoded data removed]",
      "text/plain": [
       "<Figure size 432x288 with 1 Axes>"
      ]
     },
     "metadata": {
      "needs_background": "light"
     },
     "output_type": "display_data"
    },
    {
     "data": {
      "image/png": "[encoded data removed]",
      "text/plain": [
       "<Figure size 432x288 with 1 Axes>"
      ]
     },
     "metadata": {
      "needs_background": "light"
     },
     "output_type": "display_data"
    },
    {
     "data": {
      "image/png": "[encoded data removed]",
      "text/plain": [
       "<Figure size 432x288 with 1 Axes>"
      ]
     },
     "metadata": {
      "needs_background": "light"
     },
     "output_type": "display_data"
    }
   ],
   "source": [
    "for i,j in zip(preds_raw, preds_syn):\n",
    "    fig, ax = plt.subplots(1, 1)\n",
    "    get_roc(y_raw, i, 'Raw')\n",
    "    get_roc(y_syn, j, 'Syn.')"
   ]
  },
  {
   "cell_type": "code",
   "execution_count": 15,
   "metadata": {},
   "outputs": [
    {
     "data": {
      "image/png": "[encoded data removed]",
      "text/plain": [
       "<Figure size 432x288 with 2 Axes>"
      ]
     },
     "metadata": {
      "needs_background": "light"
     },
     "output_type": "display_data"
    }
   ],
   "source": [
    "create_matrix(y_raw, preds_raw[0], 'logistic regression')"
   ]
  },
  {
   "cell_type": "code",
   "execution_count": 12,
   "metadata": {},
   "outputs": [
    {
     "data": {
      "image/png": "[encoded data removed]",
      "text/plain": [
       "<Figure size 432x288 with 2 Axes>"
      ]
     },
     "metadata": {
      "needs_background": "light"
     },
     "output_type": "display_data"
    }
   ],
   "source": [
    "create_matrix(y_raw, preds_raw[1], 'random forest')"
   ]
  },
  {
   "cell_type": "code",
   "execution_count": 13,
   "metadata": {},
   "outputs": [
    {
     "data": {
      "image/png": "[encoded data removed]",
      "text/plain": [
       "<Figure size 432x288 with 2 Axes>"
      ]
     },
     "metadata": {
      "needs_background": "light"
     },
     "output_type": "display_data"
    }
   ],
   "source": [
    "create_matrix(y_raw, preds_raw[2], 'neural network')"
   ]
  },
  {
   "cell_type": "markdown",
   "metadata": {},
   "source": [
    "## ML Evaluation - synthetic data generation via SMOTE"
   ]
  },
  {
   "cell_type": "markdown",
   "metadata": {},
   "source": [
    "### Data generation"
   ]
  },
  {
   "cell_type": "code",
   "execution_count": 54,
   "metadata": {},
   "outputs": [],
   "source": [
    "syn_X = 1 # synthetic attributes \n",
    "syn_y = 1 # synthetic targets\n",
    "\n",
    "## initalise for synthetic datasets"
   ]
  },
  {
   "cell_type": "markdown",
   "metadata": {},
   "source": [
    "### Training and evaluation"
   ]
  },
  {
   "cell_type": "code",
   "execution_count": 55,
   "metadata": {},
   "outputs": [
    {
     "ename": "NameError",
     "evalue": "name 'X_syn' is not defined",
     "output_type": "error",
     "traceback": [
      "\u001b[0;31m---------------------------------------------------------------------------\u001b[0m",
      "\u001b[0;31mNameError\u001b[0m                                 Traceback (most recent call last)",
      "\u001b[0;32m<ipython-input-55-f9703b8d0420>\u001b[0m in \u001b[0;36m<module>\u001b[0;34m\u001b[0m\n\u001b[0;32m----> 1\u001b[0;31m \u001b[0mmodels\u001b[0m \u001b[0;34m=\u001b[0m \u001b[0mget_models\u001b[0m\u001b[0;34m(\u001b[0m\u001b[0mX_syn\u001b[0m\u001b[0;34m,\u001b[0m \u001b[0my_syn\u001b[0m\u001b[0;34m,\u001b[0m \u001b[0mrandom_state\u001b[0m\u001b[0;34m=\u001b[0m\u001b[0mSEED\u001b[0m\u001b[0;34m)\u001b[0m \u001b[0;31m# train models\u001b[0m\u001b[0;34m\u001b[0m\u001b[0;34m\u001b[0m\u001b[0m\n\u001b[0m\u001b[1;32m      2\u001b[0m \u001b[0;34m\u001b[0m\u001b[0m\n\u001b[1;32m      3\u001b[0m \u001b[0mpreds_raw\u001b[0m \u001b[0;34m=\u001b[0m \u001b[0;34m[\u001b[0m\u001b[0;34m]\u001b[0m \u001b[0;31m# test data, ie the raw data\u001b[0m\u001b[0;34m\u001b[0m\u001b[0;34m\u001b[0m\u001b[0m\n\u001b[1;32m      4\u001b[0m \u001b[0mpreds_syn\u001b[0m \u001b[0;34m=\u001b[0m \u001b[0;34m[\u001b[0m\u001b[0;34m]\u001b[0m \u001b[0;31m# train data, ie the synthetic data\u001b[0m\u001b[0;34m\u001b[0m\u001b[0;34m\u001b[0m\u001b[0m\n\u001b[1;32m      5\u001b[0m \u001b[0;32mfor\u001b[0m \u001b[0mi\u001b[0m \u001b[0;32min\u001b[0m \u001b[0mmodels\u001b[0m\u001b[0;34m:\u001b[0m\u001b[0;34m\u001b[0m\u001b[0;34m\u001b[0m\u001b[0m\n",
      "\u001b[0;31mNameError\u001b[0m: name 'X_syn' is not defined"
     ]
    }
   ],
   "source": [
    "models = get_models(X_syn, y_syn, random_state=SEED) # train models\n",
    "\n",
    "preds_raw = [] # test data, ie the raw data\n",
    "preds_syn = [] # train data, ie the synthetic data\n",
    "for i in models:\n",
    "    preds_raw.append(get_preds(i, X_raw))\n",
    "    preds_syn.append(get_preds(i, X_syn))\n",
    "    \n",
    "a = get_comparison_grid(models, X_raw, y_raw, 'Raw - ')\n",
    "b = get_comparison_grid(models, X_syn, y_syn, 'Syn. - ')\n",
    "pd.concat([a,b])"
   ]
  },
  {
   "cell_type": "code",
   "execution_count": null,
   "metadata": {},
   "outputs": [],
   "source": [
    "for i,j in zip(preds_raw, preds_syn):\n",
    "    fig, ax = plt.subplots(1, 1)\n",
    "    get_roc(y_raw, i, 'Raw')\n",
    "    get_roc(y_syn, j, 'Syn.')"
   ]
  },
  {
   "cell_type": "code",
   "execution_count": null,
   "metadata": {},
   "outputs": [],
   "source": [
    "create_matrix(y_raw, preds_raw[0], 'logistic regression')"
   ]
  },
  {
   "cell_type": "code",
   "execution_count": null,
   "metadata": {},
   "outputs": [],
   "source": [
    "create_matrix(y_raw, preds_raw[1], 'random forest')"
   ]
  },
  {
   "cell_type": "code",
   "execution_count": null,
   "metadata": {},
   "outputs": [],
   "source": [
    "create_matrix(y_raw, preds_raw[2], 'neural network')"
   ]
  },
  {
   "cell_type": "markdown",
   "metadata": {},
   "source": [
    "## ML Evaluation - synthetic data generation via CTGAN"
   ]
  },
  {
   "cell_type": "markdown",
   "metadata": {},
   "source": [
    "### Data generation"
   ]
  },
  {
   "cell_type": "code",
   "execution_count": 56,
   "metadata": {},
   "outputs": [],
   "source": [
    "syn_X = 1 # synthetic attributes \n",
    "syn_y = 1 # synthetic targets\n",
    "\n",
    "## initalise for synthetic datasets"
   ]
  },
  {
   "cell_type": "markdown",
   "metadata": {},
   "source": [
    "### Training and evaluation"
   ]
  },
  {
   "cell_type": "code",
   "execution_count": null,
   "metadata": {},
   "outputs": [],
   "source": [
    "models = get_models(X_syn, y_syn, random_state=SEED) # train models\n",
    "\n",
    "preds_raw = [] # test data, ie the raw data\n",
    "preds_syn = [] # train data, ie the synthetic data\n",
    "for i in models:\n",
    "    preds_raw.append(get_preds(i, X_raw))\n",
    "    preds_syn.append(get_preds(i, X_syn))\n",
    "    \n",
    "a = get_comparison_grid(models, X_raw, y_raw, 'Raw - ')\n",
    "b = get_comparison_grid(models, X_syn, y_syn, 'Syn. - ')\n",
    "pd.concat([a,b])"
   ]
  },
  {
   "cell_type": "code",
   "execution_count": null,
   "metadata": {},
   "outputs": [],
   "source": [
    "for i,j in zip(preds_raw, preds_syn):\n",
    "    fig, ax = plt.subplots(1, 1)\n",
    "    get_roc(y_raw, i, 'Raw')\n",
    "    get_roc(y_syn, j, 'Syn.')"
   ]
  },
  {
   "cell_type": "code",
   "execution_count": null,
   "metadata": {},
   "outputs": [],
   "source": [
    "create_matrix(y_raw, preds_raw[0], 'logistic regression')"
   ]
  },
  {
   "cell_type": "code",
   "execution_count": null,
   "metadata": {},
   "outputs": [],
   "source": [
    "create_matrix(y_raw, preds_raw[1], 'random forest')"
   ]
  },
  {
   "cell_type": "code",
   "execution_count": null,
   "metadata": {},
   "outputs": [],
   "source": [
    "create_matrix(y_raw, preds_raw[2], 'neural network')"
   ]
  }
 ],
 "metadata": {
  "kernelspec": {
   "display_name": "Python 3",
   "language": "python",
   "name": "python3"
  },
  "language_info": {
   "codemirror_mode": {
    "name": "ipython",
    "version": 3
   },
   "file_extension": ".py",
   "mimetype": "text/x-python",
   "name": "python",
   "nbconvert_exporter": "python",
   "pygments_lexer": "ipython3",
   "version": "3.8.3"
  }
 },
 "nbformat": 4,
 "nbformat_minor": 4
}
